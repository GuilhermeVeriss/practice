{
  "nbformat": 4,
  "nbformat_minor": 0,
  "metadata": {
    "colab": {
      "provenance": [],
      "mount_file_id": "1opqtWkcNGUMiCRmWtfZONXfDyDv3arR2",
      "authorship_tag": "ABX9TyMoC1+xg1ILukNLmR3al3Pz",
      "include_colab_link": true
    },
    "kernelspec": {
      "name": "python3",
      "display_name": "Python 3"
    },
    "language_info": {
      "name": "python"
    }
  },
  "cells": [
    {
      "cell_type": "markdown",
      "metadata": {
        "id": "view-in-github",
        "colab_type": "text"
      },
      "source": [
        "<a href=\"https://colab.research.google.com/github/GuilhermeVeriss/practice/blob/main/python_learn/firstNeuralNet.ipynb\" target=\"_parent\"><img src=\"https://colab.research.google.com/assets/colab-badge.svg\" alt=\"Open In Colab\"/></a>"
      ]
    },
    {
      "cell_type": "code",
      "source": [
        "import numpy as np"
      ],
      "metadata": {
        "id": "bdyEt1CtgfWi"
      },
      "execution_count": 36,
      "outputs": []
    },
    {
      "cell_type": "code",
      "source": [
        "# Small Sample\n",
        "\n",
        "def even_odd(n):\n",
        "  if n % 2 == 0:\n",
        "    return 1\n",
        "  return 0\n",
        "\n",
        "inputsample = np.array([np.random.randint(0, 100) for _ in range(500)])\n",
        "outputsample = np.array(list(map(even_odd, inputsample)))\n",
        "\n",
        "train = np.array([inputsample, outputsample])"
      ],
      "metadata": {
        "id": "qfY9cBQG8irQ"
      },
      "execution_count": 162,
      "outputs": []
    },
    {
      "cell_type": "code",
      "source": [
        "class NeuralNet:\n",
        "  def __init__(self, laysizes):\n",
        "    self.layers = len(laysizes)\n",
        "    self.laysizes = laysizes\n",
        "    self.biases = np.array([np.random.randn(y) for y in laysizes[1:]])\n",
        "    self.weights = np.array([np.random.randn(y, x) for x, y in zip(laysizes[:-1], laysizes[1:])])\n",
        "  \n",
        "  def sigmoid(self, z):\n",
        "    return 1 / (1 + np.exp(-z))\n",
        "  \n",
        "  def diff_sigmoid(self, z):\n",
        "    return self.sigmoid(z)*(1-self.sigmoid(z))\n",
        "\n",
        "  def feedforward(self, a):\n",
        "    for b, w in zip(self.biases, self.weights):\n",
        "      a = self.sigmoid((w @ a) + b)\n",
        "    return a\n",
        "\n",
        "  def SGD(self, train_data, learn_rate, samplesize, epochs):\n",
        "    mini_batches_input = []\n",
        "    mini_batches_expect = []\n",
        "\n",
        "    for _ in range(epochs):\n",
        "\n",
        "      # splits the train_data into mini_batches\n",
        "      for k in range(0, len(train_data[0])-samplesize, samplesize):\n",
        "        mini_batches_input.append(train_data[0, k:k+samplesize])\n",
        "        mini_batches_expect.append(train_data[1, k:k+samplesize])\n",
        "      \n",
        "      for batch in range(len(mini_batches_input)):\n",
        "        self.update_network(mini_batches_input[batch], \n",
        "                            mini_batches_expect[batch], learn_rate)\n",
        "  \n",
        "\n",
        "  def update_network(self, inp, outp, learn_rate):\n",
        "    # calculates the mean gradient of C and updates the NeuralNetwork's weights and bias\n",
        "    n = len(inp)\n",
        "\n",
        "    nabla_w = np.array([np.zeros(w.shape) for w in self.weights])\n",
        "    nabla_b = np.array([np.zeros(len(b)) for b in self.biases])\n",
        "\n",
        "    for x, y in zip(inp, outp): \n",
        "      wi, bi = self.backprop(x, y)\n",
        "      nabla_w += wi\n",
        "      nabla_b += bi\n",
        "    \n",
        "    nabla_w /= n\n",
        "    nabla_b /= n\n",
        "\n",
        "    self.weights += -learn_rate * nabla_w\n",
        "    self.biases += -learn_rate * nabla_b\n",
        "\n",
        "\n",
        "\n",
        "  def backprop(self, x, y):\n",
        "      nabla_b = np.array([np.zeros(len(b)) for b in self.biases])\n",
        "      nabla_w = np.array([np.zeros(w.shape) for w in self.weights])\n",
        "\n",
        "      a = x\n",
        "      activations = [x]\n",
        "      z_matrix = []\n",
        "\n",
        "      for b, w in zip(self.biases, self.weights):\n",
        "        print(f\"w= {w}\")\n",
        "        z = w @ a\n",
        "        print(f\"z = {z}\")\n",
        "        z += b\n",
        "        print(f\"z+b = {z}\")\n",
        "        z_matrix.append(z)\n",
        "        a = self.sigmoid(z)\n",
        "        activations.append(a)\n",
        "      \n",
        "      # 1° Backpropagation equation\n",
        "      delta = (activations[-1] - y) * self.diff_sigmoid(z_matrix[-1])\n",
        "\n",
        "      # 3° and 4° Backprop equations (nabla w and nabla b)\n",
        "      nabla_b[-1] = delta\n",
        "      nabla_w[-1] = delta @ activations[-2].T\n",
        "\n",
        "  \n",
        "      for i in range(2, self.layers-1):\n",
        "        # 2° Backpropagation equation\n",
        "        delta = self.weights[-i+1].T @ delta *\\\n",
        "                 self.diff_sigmoid(z_matrix[-i])\n",
        "        nabla_b[-i] = delta\n",
        "        nabla_w[-i] = delta @ activations[-i-1].T\n",
        "      \n",
        "      return nabla_w, nabla_b\n",
        "        \n"
      ],
      "metadata": {
        "id": "AXPxH_7JlL-j"
      },
      "execution_count": 209,
      "outputs": []
    },
    {
      "cell_type": "code",
      "source": [
        "n1 = NeuralNet([1, 3, 1])\n",
        "n1.SGD(train, 0.01, 100, 1)"
      ],
      "metadata": {
        "id": "8L1WtkDGncOC",
        "colab": {
          "base_uri": "https://localhost:8080/",
          "height": 539
        },
        "outputId": "23a82ccd-d9db-4633-8dd5-a23f8a228bdf"
      },
      "execution_count": 210,
      "outputs": [
        {
          "output_type": "stream",
          "name": "stdout",
          "text": [
            "w= [[ 0.50847216]\n",
            " [ 0.18819227]\n",
            " [-0.31823516]]\n"
          ]
        },
        {
          "output_type": "stream",
          "name": "stderr",
          "text": [
            "/usr/local/lib/python3.7/dist-packages/ipykernel_launcher.py:5: VisibleDeprecationWarning: Creating an ndarray from ragged nested sequences (which is a list-or-tuple of lists-or-tuples-or ndarrays with different lengths or shapes) is deprecated. If you meant to do this, you must specify 'dtype=object' when creating the ndarray.\n",
            "  \"\"\"\n",
            "/usr/local/lib/python3.7/dist-packages/ipykernel_launcher.py:6: VisibleDeprecationWarning: Creating an ndarray from ragged nested sequences (which is a list-or-tuple of lists-or-tuples-or ndarrays with different lengths or shapes) is deprecated. If you meant to do this, you must specify 'dtype=object' when creating the ndarray.\n",
            "  \n",
            "/usr/local/lib/python3.7/dist-packages/ipykernel_launcher.py:39: VisibleDeprecationWarning: Creating an ndarray from ragged nested sequences (which is a list-or-tuple of lists-or-tuples-or ndarrays with different lengths or shapes) is deprecated. If you meant to do this, you must specify 'dtype=object' when creating the ndarray.\n",
            "/usr/local/lib/python3.7/dist-packages/ipykernel_launcher.py:40: VisibleDeprecationWarning: Creating an ndarray from ragged nested sequences (which is a list-or-tuple of lists-or-tuples-or ndarrays with different lengths or shapes) is deprecated. If you meant to do this, you must specify 'dtype=object' when creating the ndarray.\n",
            "/usr/local/lib/python3.7/dist-packages/ipykernel_launcher.py:56: VisibleDeprecationWarning: Creating an ndarray from ragged nested sequences (which is a list-or-tuple of lists-or-tuples-or ndarrays with different lengths or shapes) is deprecated. If you meant to do this, you must specify 'dtype=object' when creating the ndarray.\n",
            "/usr/local/lib/python3.7/dist-packages/ipykernel_launcher.py:57: VisibleDeprecationWarning: Creating an ndarray from ragged nested sequences (which is a list-or-tuple of lists-or-tuples-or ndarrays with different lengths or shapes) is deprecated. If you meant to do this, you must specify 'dtype=object' when creating the ndarray.\n"
          ]
        },
        {
          "output_type": "error",
          "ename": "ValueError",
          "evalue": "ignored",
          "traceback": [
            "\u001b[0;31m---------------------------------------------------------------------------\u001b[0m",
            "\u001b[0;31mValueError\u001b[0m                                Traceback (most recent call last)",
            "\u001b[0;32m<ipython-input-210-fcad9ae32b03>\u001b[0m in \u001b[0;36m<module>\u001b[0;34m\u001b[0m\n\u001b[1;32m      1\u001b[0m \u001b[0mn1\u001b[0m \u001b[0;34m=\u001b[0m \u001b[0mNeuralNet\u001b[0m\u001b[0;34m(\u001b[0m\u001b[0;34m[\u001b[0m\u001b[0;36m1\u001b[0m\u001b[0;34m,\u001b[0m \u001b[0;36m3\u001b[0m\u001b[0;34m,\u001b[0m \u001b[0;36m1\u001b[0m\u001b[0;34m]\u001b[0m\u001b[0;34m)\u001b[0m\u001b[0;34m\u001b[0m\u001b[0;34m\u001b[0m\u001b[0m\n\u001b[0;32m----> 2\u001b[0;31m \u001b[0mn1\u001b[0m\u001b[0;34m.\u001b[0m\u001b[0mSGD\u001b[0m\u001b[0;34m(\u001b[0m\u001b[0mtrain\u001b[0m\u001b[0;34m,\u001b[0m \u001b[0;36m0.01\u001b[0m\u001b[0;34m,\u001b[0m \u001b[0;36m100\u001b[0m\u001b[0;34m,\u001b[0m \u001b[0;36m1\u001b[0m\u001b[0;34m)\u001b[0m\u001b[0;34m\u001b[0m\u001b[0;34m\u001b[0m\u001b[0m\n\u001b[0m",
            "\u001b[0;32m<ipython-input-209-48ee2e7bdcd3>\u001b[0m in \u001b[0;36mSGD\u001b[0;34m(self, train_data, learn_rate, samplesize, epochs)\u001b[0m\n\u001b[1;32m     30\u001b[0m       \u001b[0;32mfor\u001b[0m \u001b[0mbatch\u001b[0m \u001b[0;32min\u001b[0m \u001b[0mrange\u001b[0m\u001b[0;34m(\u001b[0m\u001b[0mlen\u001b[0m\u001b[0;34m(\u001b[0m\u001b[0mmini_batches_input\u001b[0m\u001b[0;34m)\u001b[0m\u001b[0;34m)\u001b[0m\u001b[0;34m:\u001b[0m\u001b[0;34m\u001b[0m\u001b[0;34m\u001b[0m\u001b[0m\n\u001b[1;32m     31\u001b[0m         self.update_network(mini_batches_input[batch], \n\u001b[0;32m---> 32\u001b[0;31m                             mini_batches_expect[batch], learn_rate)\n\u001b[0m\u001b[1;32m     33\u001b[0m \u001b[0;34m\u001b[0m\u001b[0m\n\u001b[1;32m     34\u001b[0m \u001b[0;34m\u001b[0m\u001b[0m\n",
            "\u001b[0;32m<ipython-input-209-48ee2e7bdcd3>\u001b[0m in \u001b[0;36mupdate_network\u001b[0;34m(self, inp, outp, learn_rate)\u001b[0m\n\u001b[1;32m     41\u001b[0m \u001b[0;34m\u001b[0m\u001b[0m\n\u001b[1;32m     42\u001b[0m     \u001b[0;32mfor\u001b[0m \u001b[0mx\u001b[0m\u001b[0;34m,\u001b[0m \u001b[0my\u001b[0m \u001b[0;32min\u001b[0m \u001b[0mzip\u001b[0m\u001b[0;34m(\u001b[0m\u001b[0minp\u001b[0m\u001b[0;34m,\u001b[0m \u001b[0moutp\u001b[0m\u001b[0;34m)\u001b[0m\u001b[0;34m:\u001b[0m\u001b[0;34m\u001b[0m\u001b[0;34m\u001b[0m\u001b[0m\n\u001b[0;32m---> 43\u001b[0;31m       \u001b[0mwi\u001b[0m\u001b[0;34m,\u001b[0m \u001b[0mbi\u001b[0m \u001b[0;34m=\u001b[0m \u001b[0mself\u001b[0m\u001b[0;34m.\u001b[0m\u001b[0mbackprop\u001b[0m\u001b[0;34m(\u001b[0m\u001b[0mx\u001b[0m\u001b[0;34m,\u001b[0m \u001b[0my\u001b[0m\u001b[0;34m)\u001b[0m\u001b[0;34m\u001b[0m\u001b[0;34m\u001b[0m\u001b[0m\n\u001b[0m\u001b[1;32m     44\u001b[0m       \u001b[0mnabla_w\u001b[0m \u001b[0;34m+=\u001b[0m \u001b[0mwi\u001b[0m\u001b[0;34m\u001b[0m\u001b[0;34m\u001b[0m\u001b[0m\n\u001b[1;32m     45\u001b[0m       \u001b[0mnabla_b\u001b[0m \u001b[0;34m+=\u001b[0m \u001b[0mbi\u001b[0m\u001b[0;34m\u001b[0m\u001b[0;34m\u001b[0m\u001b[0m\n",
            "\u001b[0;32m<ipython-input-209-48ee2e7bdcd3>\u001b[0m in \u001b[0;36mbackprop\u001b[0;34m(self, x, y)\u001b[0m\n\u001b[1;32m     63\u001b[0m       \u001b[0;32mfor\u001b[0m \u001b[0mb\u001b[0m\u001b[0;34m,\u001b[0m \u001b[0mw\u001b[0m \u001b[0;32min\u001b[0m \u001b[0mzip\u001b[0m\u001b[0;34m(\u001b[0m\u001b[0mself\u001b[0m\u001b[0;34m.\u001b[0m\u001b[0mbiases\u001b[0m\u001b[0;34m,\u001b[0m \u001b[0mself\u001b[0m\u001b[0;34m.\u001b[0m\u001b[0mweights\u001b[0m\u001b[0;34m)\u001b[0m\u001b[0;34m:\u001b[0m\u001b[0;34m\u001b[0m\u001b[0;34m\u001b[0m\u001b[0m\n\u001b[1;32m     64\u001b[0m         \u001b[0mprint\u001b[0m\u001b[0;34m(\u001b[0m\u001b[0;34mf\"w= {w}\"\u001b[0m\u001b[0;34m)\u001b[0m\u001b[0;34m\u001b[0m\u001b[0;34m\u001b[0m\u001b[0m\n\u001b[0;32m---> 65\u001b[0;31m         \u001b[0mz\u001b[0m \u001b[0;34m=\u001b[0m \u001b[0mw\u001b[0m \u001b[0;34m@\u001b[0m \u001b[0ma\u001b[0m\u001b[0;34m\u001b[0m\u001b[0;34m\u001b[0m\u001b[0m\n\u001b[0m\u001b[1;32m     66\u001b[0m         \u001b[0mprint\u001b[0m\u001b[0;34m(\u001b[0m\u001b[0;34mf\"z = {z}\"\u001b[0m\u001b[0;34m)\u001b[0m\u001b[0;34m\u001b[0m\u001b[0;34m\u001b[0m\u001b[0m\n\u001b[1;32m     67\u001b[0m         \u001b[0mz\u001b[0m \u001b[0;34m+=\u001b[0m \u001b[0mb\u001b[0m\u001b[0;34m\u001b[0m\u001b[0;34m\u001b[0m\u001b[0m\n",
            "\u001b[0;31mValueError\u001b[0m: matmul: Input operand 1 does not have enough dimensions (has 0, gufunc core with signature (n?,k),(k,m?)->(n?,m?) requires 1)"
          ]
        }
      ]
    },
    {
      "cell_type": "code",
      "source": [
        "k = 33\n",
        "print(n1.feedforward([k]))"
      ],
      "metadata": {
        "id": "6v8gLovvAOH_",
        "colab": {
          "base_uri": "https://localhost:8080/"
        },
        "outputId": "40ff6c9e-3bd7-4f8b-d592-5995872ca2e0"
      },
      "execution_count": 185,
      "outputs": [
        {
          "output_type": "stream",
          "name": "stdout",
          "text": [
            "[array([-0.07971133,  1.08024619,  1.5944893 ])\n",
            " array([[-0.6429444 , -0.6429799 , -0.64298752]])]\n",
            "[[0.01971162 0.01971093 0.01971079]]\n"
          ]
        }
      ]
    },
    {
      "cell_type": "code",
      "source": [
        "n1.weights"
      ],
      "metadata": {
        "colab": {
          "base_uri": "https://localhost:8080/"
        },
        "id": "3cRD2EhMuSbM",
        "outputId": "520d2d58-034a-4528-e8cd-4cefd422d8ea"
      },
      "execution_count": 51,
      "outputs": [
        {
          "output_type": "execute_result",
          "data": {
            "text/plain": [
              "array([array([[-1.543798  ],\n",
              "              [ 0.29024501]]), array([[-0.20615767, -1.18282391]])],\n",
              "      dtype=object)"
            ]
          },
          "metadata": {},
          "execution_count": 51
        }
      ]
    },
    {
      "cell_type": "code",
      "source": [
        "n1.biases"
      ],
      "metadata": {
        "colab": {
          "base_uri": "https://localhost:8080/"
        },
        "id": "Ma9p7Jk3uflK",
        "outputId": "cae0a6d9-995f-4a11-a1d8-136e38246111"
      },
      "execution_count": 52,
      "outputs": [
        {
          "output_type": "execute_result",
          "data": {
            "text/plain": [
              "array([array([[-0.90927836],\n",
              "              [ 1.08163457]]), array([[-0.62092278]])], dtype=object)"
            ]
          },
          "metadata": {},
          "execution_count": 52
        }
      ]
    }
  ]
}